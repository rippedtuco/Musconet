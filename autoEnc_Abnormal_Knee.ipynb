{
  "nbformat": 4,
  "nbformat_minor": 0,
  "metadata": {
    "colab": {
      "provenance": [],
      "authorship_tag": "ABX9TyPPkfEXcYCJxJFIbCXC567H",
      "include_colab_link": true
    },
    "kernelspec": {
      "name": "python3",
      "display_name": "Python 3"
    },
    "language_info": {
      "name": "python"
    }
  },
  "cells": [
    {
      "cell_type": "markdown",
      "metadata": {
        "id": "view-in-github",
        "colab_type": "text"
      },
      "source": [
        "<a href=\"https://colab.research.google.com/github/rippedtuco/Musconet/blob/main/autoEnc_Abnormal_Knee.ipynb\" target=\"_parent\"><img src=\"https://colab.research.google.com/assets/colab-badge.svg\" alt=\"Open In Colab\"/></a>"
      ]
    },
    {
      "cell_type": "code",
      "execution_count": 2,
      "metadata": {
        "colab": {
          "base_uri": "https://localhost:8080/",
          "height": 399
        },
        "id": "06-NVkHGRHtW",
        "outputId": "ee9b22bf-45ba-4735-a92a-22096bfd3fa6"
      },
      "outputs": [
        {
          "output_type": "stream",
          "name": "stdout",
          "text": [
            "Drive already mounted at /content/drive; to attempt to forcibly remount, call drive.mount(\"/content/drive\", force_remount=True).\n",
            "Epoch 1/10\n",
            "5833/5833 [==============================] - 17s 3ms/step - loss: 3.2721\n",
            "Epoch 2/10\n",
            "5833/5833 [==============================] - 17s 3ms/step - loss: 0.0170\n",
            "Epoch 3/10\n",
            "5833/5833 [==============================] - 15s 3ms/step - loss: 0.0184\n",
            "Epoch 4/10\n",
            "5833/5833 [==============================] - 15s 3ms/step - loss: 0.0115\n",
            "Epoch 5/10\n",
            "5833/5833 [==============================] - 15s 3ms/step - loss: 0.0162\n",
            "Epoch 6/10\n",
            "5833/5833 [==============================] - 15s 3ms/step - loss: 0.0081\n",
            "Epoch 7/10\n",
            "5833/5833 [==============================] - 15s 3ms/step - loss: 0.0113\n",
            "Epoch 8/10\n",
            "5833/5833 [==============================] - 14s 2ms/step - loss: 0.0237\n",
            "Epoch 9/10\n",
            "5833/5833 [==============================] - 15s 3ms/step - loss: 0.0071\n",
            "Epoch 10/10\n",
            "5833/5833 [==============================] - 15s 3ms/step - loss: 0.0113\n"
          ]
        },
        {
          "output_type": "stream",
          "name": "stderr",
          "text": [
            "WARNING:tensorflow:Compiled the loaded model, but the compiled metrics have yet to be built. `model.compile_metrics` will be empty until you train or evaluate the model.\n"
          ]
        },
        {
          "output_type": "display_data",
          "data": {
            "text/plain": [
              "<IPython.core.display.Javascript object>"
            ],
            "application/javascript": [
              "\n",
              "    async function download(id, filename, size) {\n",
              "      if (!google.colab.kernel.accessAllowed) {\n",
              "        return;\n",
              "      }\n",
              "      const div = document.createElement('div');\n",
              "      const label = document.createElement('label');\n",
              "      label.textContent = `Downloading \"${filename}\": `;\n",
              "      div.appendChild(label);\n",
              "      const progress = document.createElement('progress');\n",
              "      progress.max = size;\n",
              "      div.appendChild(progress);\n",
              "      document.body.appendChild(div);\n",
              "\n",
              "      const buffers = [];\n",
              "      let downloaded = 0;\n",
              "\n",
              "      const channel = await google.colab.kernel.comms.open(id);\n",
              "      // Send a message to notify the kernel that we're ready.\n",
              "      channel.send({})\n",
              "\n",
              "      for await (const message of channel.messages) {\n",
              "        // Send a message to notify the kernel that we're ready.\n",
              "        channel.send({})\n",
              "        if (message.buffers) {\n",
              "          for (const buffer of message.buffers) {\n",
              "            buffers.push(buffer);\n",
              "            downloaded += buffer.byteLength;\n",
              "            progress.value = downloaded;\n",
              "          }\n",
              "        }\n",
              "      }\n",
              "      const blob = new Blob(buffers, {type: 'application/binary'});\n",
              "      const a = document.createElement('a');\n",
              "      a.href = window.URL.createObjectURL(blob);\n",
              "      a.download = filename;\n",
              "      div.appendChild(a);\n",
              "      a.click();\n",
              "      div.remove();\n",
              "    }\n",
              "  "
            ]
          },
          "metadata": {}
        },
        {
          "output_type": "display_data",
          "data": {
            "text/plain": [
              "<IPython.core.display.Javascript object>"
            ],
            "application/javascript": [
              "download(\"download_fd9d008c-958c-4131-b95b-0c8630f72598\", \"encoder_model_bad_leg_extension.h5\", 13208)"
            ]
          },
          "metadata": {}
        }
      ],
      "source": [
        "import os\n",
        "import pandas as pd\n",
        "from sklearn.model_selection import train_test_split\n",
        "import tensorflow as tf\n",
        "from tensorflow.keras.layers import Dense, Input\n",
        "from tensorflow.keras.models import Model\n",
        "from google.colab import drive\n",
        "from google.colab import files\n",
        "\n",
        "def load_patient_data(main_directory):\n",
        "\n",
        "    # Get the list of patient folders\n",
        "    patient_folders = [folder for folder in os.listdir(main_directory)]\n",
        "\n",
        "    march_data = []  # Initialize empty data frame for march data\n",
        "    leg_extension_data = []  # Initialize empty data frame for leg extension data\n",
        "    knee_flexion_data = []  # Initialize empty data frame for knee flexion data\n",
        "\n",
        "    for patient_folder in patient_folders:\n",
        "        patient_path = os.path.join(main_directory, patient_folder)  # Path to the patient folder\n",
        "\n",
        "        march_files = [file for file in os.listdir(patient_path) if file.__contains__(\"mar\")]\n",
        "        march_patient_data = pd.concat([pd.read_csv(os.path.join(patient_path, file)) for file in march_files]) # Load CSV data for the patient\n",
        "        march_data.append(march_patient_data)  # Append patient data to march data frame\n",
        "\n",
        "        leg_extension_files = [file for file in os.listdir(patient_path) if file.__contains__(\"pie\")]\n",
        "        leg_extension_patient_data = pd.concat([pd.read_csv(os.path.join(patient_path, file)) for file in leg_extension_files]) # Load CSV data for the patient\n",
        "        leg_extension_data.append(leg_extension_patient_data)  # Append patient data to leg extension data frame\n",
        "\n",
        "        knee_flexion_files = [file for file in os.listdir(patient_path) if file.__contains__(\"sen\")]\n",
        "        knee_flexion_patient_data = pd.concat([pd.read_csv(os.path.join(patient_path, file)) for file in knee_flexion_files]) # Load CSV data for the patient\n",
        "        knee_flexion_data.append(knee_flexion_patient_data)  # Append patient data to knee flexion data frame\n",
        "\n",
        "    march_data = pd.concat(march_data)  # Concatenate all march data frames\n",
        "    leg_extension_data = pd.concat(leg_extension_data)  # Concatenate all leg extension data frames\n",
        "    knee_flexion_data = pd.concat(knee_flexion_data)  # Concatenate all knee flexion data frames\n",
        "\n",
        "    \n",
        "    return march_data,leg_extension_data,knee_flexion_data\n",
        "\n",
        "# Example usage\n",
        "drive.mount('/content/drive')\n",
        "main_directory = \"/content/drive/MyDrive/EMG/CSV_A\"\n",
        "b_march_data,b_leg_extension_data,b_knee_flexion_data = load_patient_data(os.path.join(main_directory))\n",
        "\n",
        "column_index = 4\n",
        "if column_index < len(b_march_data.columns):\n",
        "    b_march_data = b_march_data.drop(b_march_data.columns[column_index], axis=1)\n",
        "\n",
        "if column_index < len(b_leg_extension_data.columns):\n",
        "    b_leg_extension_data = b_leg_extension_data.drop(b_leg_extension_data.columns[column_index], axis=1)\n",
        "\n",
        "if column_index < len(b_knee_flexion_data.columns):\n",
        "    b_knee_flexion_data = b_knee_flexion_data.drop(b_knee_flexion_data.columns[column_index], axis=1)\n",
        "\n",
        "b_march_data_train,b_march_data_test=train_test_split(b_march_data,test_size=0.2)\n",
        "b_leg_extension_data_train,b_leg_extension_data_test=train_test_split(b_leg_extension_data,test_size=0.2)\n",
        "b_knee_flexion_data_train,b_knee_flexion_data_test=train_test_split(b_knee_flexion_data,test_size=0.2)\n",
        "\n",
        "num_features=4\n",
        "\n",
        "input_shape = (num_features,)\n",
        "\n",
        "input_data = Input(shape=input_shape)\n",
        "encoded = Dense(64, activation='elu')(input_data)\n",
        "encoded = Dense(32, activation='elu')(encoded)\n",
        "encoded = Dense(16, activation='elu')(encoded)\n",
        "\n",
        "\n",
        "decoded = Dense(32, activation='elu')(encoded)\n",
        "decoded = Dense(64, activation='elu')(decoded)\n",
        "decoded = Dense(num_features, activation='linear')(decoded)\n",
        "\n",
        "# Create the autoencoder model\n",
        "autoencoder = Model(input_data, decoded)\n",
        "\n",
        "# Compile the model\n",
        "autoencoder.compile(optimizer='adam', loss='mse')\n",
        "\n",
        "# Train the autoencoder using your good EMG data\n",
        "autoencoder.fit(b_knee_flexion_data_train, b_knee_flexion_data_train, epochs=10, batch_size=32)\n",
        "\n",
        "# Create a new model for feature extraction\n",
        "encoder_model = Model(inputs=autoencoder.input, outputs=autoencoder.get_layer('dense_6').output)\n",
        "\n",
        "encoder_model.save('encoder_model_bad_leg_extension.h5')\n",
        "files.download('encoder_model_bad_leg_extension.h5')"
      ]
    }
  ]
}